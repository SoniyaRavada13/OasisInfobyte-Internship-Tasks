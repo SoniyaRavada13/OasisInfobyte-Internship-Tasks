{
 "cells": [
  {
   "cell_type": "code",
   "execution_count": 2,
   "id": "3586d4a8",
   "metadata": {},
   "outputs": [
    {
     "name": "stdout",
     "output_type": "stream",
     "text": [
      "Random Password Generator\n",
      "Enter password length: 7\n",
      "Include letters? (y/n): y\n",
      "Include numbers? (y/n): y\n",
      "Include symbols? (y/n): n\n",
      "\n",
      "Your generated password is: e0ydGMY\n"
     ]
    }
   ],
   "source": [
    "# Random password generator\n",
    "import random\n",
    "import string\n",
    "\n",
    "def generate_password(length, use_letters, use_numbers, use_symbols):\n",
    "    character_pool = \"\"\n",
    "    if use_letters:\n",
    "        character_pool += string.ascii_letters\n",
    "    if use_numbers:\n",
    "        character_pool += string.digits\n",
    "    if use_symbols:\n",
    "        character_pool += string.punctuation\n",
    "\n",
    "    if not character_pool:\n",
    "        return \"Error: No character types selected.\"\n",
    "\n",
    "    return ''.join(random.choice(character_pool) for _ in range(length))\n",
    "\n",
    "def main():\n",
    "    print(\"Random Password Generator\")\n",
    "\n",
    "    try:\n",
    "        length = int(input(\"Enter password length: \"))\n",
    "        if length <= 0:\n",
    "            raise ValueError\n",
    "\n",
    "        use_letters = input(\"Include letters? (y/n): \").lower() == 'y'\n",
    "        use_numbers = input(\"Include numbers? (y/n): \").lower() == 'y'\n",
    "        use_symbols = input(\"Include symbols? (y/n): \").lower() == 'y'\n",
    "\n",
    "        password = generate_password(length, use_letters, use_numbers, use_symbols)\n",
    "        print(f\"\\nYour generated password is: {password}\")\n",
    "\n",
    "    except ValueError:\n",
    "        print(\"Please enter a valid number greater than 0.\")\n",
    "\n",
    "if __name__ == \"__main__\":\n",
    "    main()\n"
   ]
  },
  {
   "cell_type": "code",
   "execution_count": null,
   "id": "226d81d5",
   "metadata": {},
   "outputs": [],
   "source": []
  }
 ],
 "metadata": {
  "kernelspec": {
   "display_name": "Python 3 (ipykernel)",
   "language": "python",
   "name": "python3"
  },
  "language_info": {
   "codemirror_mode": {
    "name": "ipython",
    "version": 3
   },
   "file_extension": ".py",
   "mimetype": "text/x-python",
   "name": "python",
   "nbconvert_exporter": "python",
   "pygments_lexer": "ipython3",
   "version": "3.11.5"
  }
 },
 "nbformat": 4,
 "nbformat_minor": 5
}
