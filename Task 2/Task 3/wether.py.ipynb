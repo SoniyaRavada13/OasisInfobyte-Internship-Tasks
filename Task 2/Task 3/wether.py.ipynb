{
 "cells": [
  {
   "cell_type": "code",
   "execution_count": 25,
   "id": "ba3a292f",
   "metadata": {},
   "outputs": [
    {
     "name": "stdout",
     "output_type": "stream",
     "text": [
      "enter the city: tirupati\n",
      "\n",
      " The weather in tirupati is: Clouds\n",
      "\n",
      "The temperature in tirupati is: 29℉ \n",
      "\n",
      "The humidity in tirupati is: 55\n",
      "\n",
      "The overall condition in tirupati is: overcast clouds\n",
      "\n"
     ]
    }
   ],
   "source": [
    "import requests\n",
    "api_key='8d5de748692b4fc196737974a75b0a88'\n",
    "user_input=input(\"enter the city: \")\n",
    "weather_data= requests.get(f\"http://api.openweathermap.org/data/2.5/weather?q={user_input}&appid={api_key}&units=metric\")\n",
    "\n",
    "if weather_data.json()['cod']=='404':\n",
    "    print(\"no city is found\")\n",
    "else:    \n",
    "    weather=weather_data.json()['weather'][0]['main']\n",
    "    temp=round(weather_data.json()['main']['temp'])\n",
    "    humidity = (weather_data.json()['main']['humidity'])\n",
    "    condition = (weather_data.json()['weather'][0]['description'])\n",
    "    print(f\"\\n The weather in {user_input} is: {weather}\\n\")\n",
    "    print(f\"The temperature in {user_input} is: {temp}℉ \\n\")\n",
    "    print(f\"The humidity in {user_input} is: {humidity}\\n\")\n",
    "    print(f\"The overall condition in {user_input} is: {condition}\\n\")\n",
    "\n"
   ]
  },
  {
   "cell_type": "code",
   "execution_count": null,
   "id": "1810c391",
   "metadata": {},
   "outputs": [],
   "source": []
  },
  {
   "cell_type": "code",
   "execution_count": null,
   "id": "eeda935b",
   "metadata": {},
   "outputs": [],
   "source": []
  },
  {
   "cell_type": "code",
   "execution_count": 24,
   "id": "f361d4d7",
   "metadata": {},
   "outputs": [
    {
     "name": "stdout",
     "output_type": "stream",
     "text": [
      "enter the city: srikakulam\n",
      "\n",
      " The weather in srikakulam is: Clouds\n",
      "\n",
      "The temperature in srikakulam is: 26℉ \n",
      "\n",
      "The humidity in srikakulam is: 88\n",
      "\n",
      "The overall condition in srikakulam is: overcast clouds\n",
      "\n"
     ]
    }
   ],
   "source": [
    "import requests\n",
    "api_key='8d5de748692b4fc196737974a75b0a88'\n",
    "user_input=input(\"enter the city: \")\n",
    "weather_data= requests.get(f\"http://api.openweathermap.org/data/2.5/weather?q={user_input}&appid={api_key}&units=metric\")\n",
    "\n",
    "if weather_data.json()['cod']=='404':\n",
    "    print(\"no city is found\")\n",
    "else:    \n",
    "    weather=weather_data.json()['weather'][0]['main']\n",
    "    temp=round(weather_data.json()['main']['temp'])\n",
    "    humidity = (weather_data.json()['main']['humidity'])\n",
    "    condition = (weather_data.json()['weather'][0]['description'])\n",
    "    print(f\"\\n The weather in {user_input} is: {weather}\\n\")\n",
    "    print(f\"The temperature in {user_input} is: {temp}℉ \\n\")\n",
    "    print(f\"The humidity in {user_input} is: {humidity}\\n\")\n",
    "    print(f\"The overall condition in {user_input} is: {condition}\\n\")\n",
    "\n"
   ]
  },
  {
   "cell_type": "code",
   "execution_count": null,
   "id": "30dd600b",
   "metadata": {},
   "outputs": [],
   "source": []
  },
  {
   "cell_type": "code",
   "execution_count": null,
   "id": "ab9d1c21",
   "metadata": {},
   "outputs": [],
   "source": []
  }
 ],
 "metadata": {
  "kernelspec": {
   "display_name": "Python 3 (ipykernel)",
   "language": "python",
   "name": "python3"
  },
  "language_info": {
   "codemirror_mode": {
    "name": "ipython",
    "version": 3
   },
   "file_extension": ".py",
   "mimetype": "text/x-python",
   "name": "python",
   "nbconvert_exporter": "python",
   "pygments_lexer": "ipython3",
   "version": "3.11.5"
  }
 },
 "nbformat": 4,
 "nbformat_minor": 5
}
