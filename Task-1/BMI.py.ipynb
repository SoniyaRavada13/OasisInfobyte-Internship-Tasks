{
 "cells": [
  {
   "cell_type": "code",
   "execution_count": 1,
   "id": "9b64fe9f",
   "metadata": {},
   "outputs": [
    {
     "name": "stdout",
     "output_type": "stream",
     "text": [
      "Enter your weight in kg: 52\n",
      "Enter your height in m: 142\n",
      "your BMI is: 25.8\n",
      "you are under over weight.\n"
     ]
    }
   ],
   "source": [
    "weight = float(input(\"Enter your weight in kg: \"))\n",
    "height_cm = float(input(\"Enter your height in m: \"))\n",
    "\n",
    "height_m = height_cm / 100  \n",
    "BMI = weight / (height_m ** 2)\n",
    "\n",
    "print(\"your BMI is:\",round(BMI, 1)) \n",
    "if BMI>0:\n",
    "    if BMI<18.5:\n",
    "        print(\"you are under weight.\")\n",
    "    elif BMI>18.5 and BMI<25:\n",
    "            print(\"you are under normal weight.\")\n",
    "    elif BMI>25 and BMI<30:\n",
    "            print(\"you are under over weight.\")\n",
    "    elif BMI>30 and BMI<40:\n",
    "            print(\"you are under obese class.\")\n",
    "    else:\n",
    "            print(\"you severly obses class\")\n",
    "else:\n",
    "    print(\"invalid BMI\")\n",
    "            \n",
    "            \n",
    "            "
   ]
  },
  {
   "cell_type": "code",
   "execution_count": null,
   "id": "e82b1698",
   "metadata": {},
   "outputs": [],
   "source": []
  }
 ],
 "metadata": {
  "kernelspec": {
   "display_name": "Python 3 (ipykernel)",
   "language": "python",
   "name": "python3"
  },
  "language_info": {
   "codemirror_mode": {
    "name": "ipython",
    "version": 3
   },
   "file_extension": ".py",
   "mimetype": "text/x-python",
   "name": "python",
   "nbconvert_exporter": "python",
   "pygments_lexer": "ipython3",
   "version": "3.11.5"
  }
 },
 "nbformat": 4,
 "nbformat_minor": 5
}
